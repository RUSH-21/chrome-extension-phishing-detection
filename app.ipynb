{
 "cells": [
  {
   "cell_type": "code",
   "execution_count": 2,
   "metadata": {},
   "outputs": [
    {
     "name": "stdout",
     "output_type": "stream",
     "text": [
      "Requirement already satisfied: flask in c:\\users\\mcrm1\\anaconda3\\envs\\botenv\\lib\\site-packages (2.0.3)Note: you may need to restart the kernel to use updated packages.\n",
      "Requirement already satisfied: itsdangerous>=2.0 in c:\\users\\mcrm1\\anaconda3\\envs\\botenv\\lib\\site-packages (from flask) (2.0.1)\n",
      "Requirement already satisfied: Werkzeug>=2.0 in c:\\users\\mcrm1\\anaconda3\\envs\\botenv\\lib\\site-packages (from flask) (2.0.3)\n",
      "\n",
      "Requirement already satisfied: click>=7.1.2 in c:\\users\\mcrm1\\anaconda3\\envs\\botenv\\lib\\site-packages (from flask) (8.0.4)\n",
      "Requirement already satisfied: Jinja2>=3.0 in c:\\users\\mcrm1\\anaconda3\\envs\\botenv\\lib\\site-packages (from flask) (3.0.3)\n",
      "Requirement already satisfied: importlib-metadata in c:\\users\\mcrm1\\anaconda3\\envs\\botenv\\lib\\site-packages (from click>=7.1.2->flask) (3.1.1)\n",
      "Requirement already satisfied: colorama in c:\\users\\mcrm1\\anaconda3\\envs\\botenv\\lib\\site-packages (from click>=7.1.2->flask) (0.4.5)\n",
      "Requirement already satisfied: zipp>=0.5 in c:\\users\\mcrm1\\anaconda3\\envs\\botenv\\lib\\site-packages (from importlib-metadata->click>=7.1.2->flask) (3.4.0)\n",
      "Requirement already satisfied: MarkupSafe>=2.0 in c:\\users\\mcrm1\\anaconda3\\envs\\botenv\\lib\\site-packages (from Jinja2>=3.0->flask) (2.0.1)\n",
      "Requirement already satisfied: dataclasses in c:\\users\\mcrm1\\anaconda3\\envs\\botenv\\lib\\site-packages (from Werkzeug>=2.0->flask) (0.8)\n"
     ]
    }
   ],
   "source": [
    "pip install flask"
   ]
  },
  {
   "cell_type": "code",
   "execution_count": 3,
   "metadata": {},
   "outputs": [
    {
     "name": "stdout",
     "output_type": "stream",
     "text": [
      "Collecting pyspark\n",
      "  Downloading pyspark-3.2.3.tar.gz (281.5 MB)\n",
      "Collecting py4j==0.10.9.5\n",
      "  Using cached py4j-0.10.9.5-py2.py3-none-any.whl (199 kB)\n",
      "Building wheels for collected packages: pyspark\n",
      "  Building wheel for pyspark (setup.py): started\n",
      "  Building wheel for pyspark (setup.py): still running...\n",
      "  Building wheel for pyspark (setup.py): finished with status 'done'\n",
      "  Created wheel for pyspark: filename=pyspark-3.2.3-py2.py3-none-any.whl size=281990674 sha256=b69eff572bd437009e0a8c5c98e91a768adf988fdfd2bd42402d8d8438d27dc0\n",
      "  Stored in directory: c:\\users\\mcrm1\\appdata\\local\\pip\\cache\\wheels\\0d\\a8\\47\\5bfb7504570634f4aca1407ef83a55705ff7730612a5f6f8b7\n",
      "Successfully built pyspark\n",
      "Installing collected packages: py4j, pyspark\n",
      "Successfully installed py4j-0.10.9.5 pyspark-3.2.3\n",
      "Note: you may need to restart the kernel to use updated packages.\n"
     ]
    }
   ],
   "source": [
    "pip install --upgrade pyspark"
   ]
  },
  {
   "cell_type": "code",
   "execution_count": 4,
   "metadata": {},
   "outputs": [],
   "source": [
    "import requests"
   ]
  },
  {
   "cell_type": "code",
   "execution_count": 5,
   "metadata": {},
   "outputs": [
    {
     "name": "stdout",
     "output_type": "stream",
     "text": [
      "Requirement already satisfied: xgboost in c:\\users\\mcrm1\\anaconda3\\envs\\botenv\\lib\\site-packages (1.5.2)\n",
      "Requirement already satisfied: numpy in c:\\users\\mcrm1\\anaconda3\\envs\\botenv\\lib\\site-packages (from xgboost) (1.19.4)\n",
      "Requirement already satisfied: scipy in c:\\users\\mcrm1\\anaconda3\\envs\\botenv\\lib\\site-packages (from xgboost) (1.5.4)\n",
      "Requirement already satisfied: numpy in c:\\users\\mcrm1\\anaconda3\\envs\\botenv\\lib\\site-packages (from xgboost) (1.19.4)\n",
      "Note: you may need to restart the kernel to use updated packages.\n"
     ]
    }
   ],
   "source": [
    "pip install xgboost"
   ]
  },
  {
   "cell_type": "code",
   "execution_count": 6,
   "metadata": {},
   "outputs": [],
   "source": [
    "from xgboost import XGBClassifier"
   ]
  },
  {
   "cell_type": "code",
   "execution_count": 7,
   "metadata": {},
   "outputs": [],
   "source": [
    "from urllib.parse import urlparse,urlencode\n",
    "import ipaddress\n",
    "import re"
   ]
  },
  {
   "cell_type": "code",
   "execution_count": 8,
   "metadata": {},
   "outputs": [
    {
     "ename": "FileNotFoundError",
     "evalue": "[Errno 2] No such file or directory: 'XGBoostClassifier.pkl'",
     "output_type": "error",
     "traceback": [
      "\u001b[1;31m---------------------------------------------------------------------------\u001b[0m",
      "\u001b[1;31mFileNotFoundError\u001b[0m                         Traceback (most recent call last)",
      "\u001b[1;32m<ipython-input-8-6bfbf8c8401e>\u001b[0m in \u001b[0;36m<module>\u001b[1;34m\u001b[0m\n\u001b[0;32m      4\u001b[0m \u001b[1;33m\u001b[0m\u001b[0m\n\u001b[0;32m      5\u001b[0m \u001b[0mapp\u001b[0m \u001b[1;33m=\u001b[0m \u001b[0mFlask\u001b[0m\u001b[1;33m(\u001b[0m\u001b[0m__name__\u001b[0m\u001b[1;33m)\u001b[0m\u001b[1;33m\u001b[0m\u001b[1;33m\u001b[0m\u001b[0m\n\u001b[1;32m----> 6\u001b[1;33m \u001b[0mmodel\u001b[0m \u001b[1;33m=\u001b[0m \u001b[0mpickle\u001b[0m\u001b[1;33m.\u001b[0m\u001b[0mload\u001b[0m\u001b[1;33m(\u001b[0m\u001b[0mopen\u001b[0m\u001b[1;33m(\u001b[0m\u001b[1;34m'XGBoostClassifier.pkl'\u001b[0m\u001b[1;33m,\u001b[0m \u001b[1;34m'rb'\u001b[0m\u001b[1;33m)\u001b[0m\u001b[1;33m)\u001b[0m\u001b[1;33m\u001b[0m\u001b[1;33m\u001b[0m\u001b[0m\n\u001b[0m\u001b[0;32m      7\u001b[0m \u001b[1;33m\u001b[0m\u001b[0m\n\u001b[0;32m      8\u001b[0m \u001b[1;33m@\u001b[0m\u001b[0mapp\u001b[0m\u001b[1;33m.\u001b[0m\u001b[0mroute\u001b[0m\u001b[1;33m(\u001b[0m\u001b[1;34m'/'\u001b[0m\u001b[1;33m)\u001b[0m\u001b[1;33m\u001b[0m\u001b[1;33m\u001b[0m\u001b[0m\n",
      "\u001b[1;31mFileNotFoundError\u001b[0m: [Errno 2] No such file or directory: 'XGBoostClassifier.pkl'"
     ]
    }
   ],
   "source": [
    "import numpy as np\n",
    "from flask import Flask, request, jsonify, render_template\n",
    "import pickle\n",
    "\n",
    "app = Flask(__name__)\n",
    "model = pickle.load(open('XGBoostClassifier.pkl', 'rb'))\n",
    "\n",
    "@app.route('/')\n",
    "def home():\n",
    "    return render_template('index.html')\n",
    "\n",
    "@app.route('/predict',methods=['POST'])\n",
    "def predict():\n",
    "    '''\n",
    "    For rendering results on HTML GUI\n",
    "    '''\n",
    "    url = request.form.get(\"experience\")\n",
    "    #data = request.get_json(force=True)\n",
    "    #output = [45,6,8]\n",
    "    #feature functions\n",
    "\n",
    "    #address\n",
    "    def getDomain(url):  \n",
    "        domain = urlparse(url).netloc\n",
    "        if re.match(r\"^www.\",domain):\n",
    "\t        domain = domain.replace(\"www.\",\"\")\n",
    "        return domain\n",
    "    \n",
    "    def havingIP(url):\n",
    "        try:\n",
    "            ipaddress.ip_address(url)\n",
    "            ip = 1\n",
    "        except:\n",
    "            ip = 0\n",
    "        return ip\n",
    "\n",
    "    def haveAtSign(url):\n",
    "        if \"@\" in url:\n",
    "            at = 1    \n",
    "        else:\n",
    "            at = 0    \n",
    "        return at\n",
    "\n",
    "    def getLength(url):\n",
    "        if len(url) < 54:\n",
    "            length = 0            \n",
    "        else:\n",
    "            length = 1            \n",
    "        return length\n",
    "\n",
    "    def getDepth(url):\n",
    "        s = urlparse(url).path.split('/')\n",
    "        depth = 0\n",
    "        for j in range(len(s)):\n",
    "            if len(s[j]) != 0:\n",
    "                depth = depth+1\n",
    "        return depth\n",
    "\n",
    "    def redirection(url):\n",
    "        pos = url.rfind('//')\n",
    "        if pos > 6:\n",
    "            if pos > 7:\n",
    "                return 1\n",
    "            else:\n",
    "                return 0\n",
    "        else:\n",
    "            return 0\n",
    "\n",
    "    def httpDomain(url):\n",
    "        domain = urlparse(url).netloc\n",
    "        if 'https' in domain:\n",
    "            return 1\n",
    "        else:\n",
    "            return 0\n",
    "\n",
    "    shortening_services = r\"bit\\.ly|goo\\.gl|shorte\\.st|go2l\\.ink|x\\.co|ow\\.ly|t\\.co|tinyurl|tr\\.im|is\\.gd|cli\\.gs|\" \\\n",
    "                        r\"yfrog\\.com|migre\\.me|ff\\.im|tiny\\.cc|url4\\.eu|twit\\.ac|su\\.pr|twurl\\.nl|snipurl\\.com|\" \\\n",
    "                        r\"short\\.to|BudURL\\.com|ping\\.fm|post\\.ly|Just\\.as|bkite\\.com|snipr\\.com|fic\\.kr|loopt\\.us|\" \\\n",
    "                        r\"doiop\\.com|short\\.ie|kl\\.am|wp\\.me|rubyurl\\.com|om\\.ly|to\\.ly|bit\\.do|t\\.co|lnkd\\.in|db\\.tt|\" \\\n",
    "                        r\"qr\\.ae|adf\\.ly|goo\\.gl|bitly\\.com|cur\\.lv|tinyurl\\.com|ow\\.ly|bit\\.ly|ity\\.im|q\\.gs|is\\.gd|\" \\\n",
    "                        r\"po\\.st|bc\\.vc|twitthis\\.com|u\\.to|j\\.mp|buzurl\\.com|cutt\\.us|u\\.bb|yourls\\.org|x\\.co|\" \\\n",
    "                        r\"prettylinkpro\\.com|scrnch\\.me|filoops\\.info|vzturl\\.com|qr\\.net|1url\\.com|tweez\\.me|v\\.gd|\" \\\n",
    "                        r\"tr\\.im|link\\.zip\\.net\"\n",
    "    \n",
    "    def tinyURL(url):\n",
    "        match=re.search(shortening_services,url)\n",
    "        if match:\n",
    "            return 1\n",
    "        else:\n",
    "            return 0\n",
    "        \n",
    "    def prefixSuffix(url):\n",
    "        if '-' in urlparse(url).netloc:\n",
    "            return 1            # phishing\n",
    "        else:\n",
    "            return 0            # legitimate\n",
    "\n",
    "    #domain\n",
    "    \n",
    "    \n",
    "    #html js\n",
    "    def iframe(response):\n",
    "        if response == \"\":\n",
    "            return 1\n",
    "        else:\n",
    "            if re.findall(r\"[<iframe>|<frameBorder>]\", response.text):\n",
    "                return 0\n",
    "            else:\n",
    "                return 1\n",
    "    \n",
    "    def mouseOver(response): \n",
    "        if response == \"\" :\n",
    "            return 1\n",
    "        else:\n",
    "            if re.findall(\"<script>.+onmouseover.+</script>\", response.text):\n",
    "                return 1\n",
    "            else:\n",
    "                return 0\n",
    "    \n",
    "    def rightClick(response):\n",
    "        if response == \"\":\n",
    "            return 1\n",
    "        else:\n",
    "            if re.findall(r\"event.button ?== ?2\", response.text):\n",
    "                return 0\n",
    "            else:\n",
    "                return 1   \n",
    "\n",
    "    def forwarding(response):\n",
    "        if response == \"\":\n",
    "            return 1\n",
    "        else:\n",
    "            if len(response.history) <= 2:\n",
    "                return 0\n",
    "            else:\n",
    "                return 1\n",
    "            \n",
    "    \n",
    "    \n",
    "\n",
    "\n",
    "\n",
    "    #feature creation\n",
    "    try:\n",
    "        response = requests.get(url)\n",
    "    except:\n",
    "        response = \"\"\n",
    "    output=[]\n",
    "    output.append(getDomain(url))\n",
    "    output.append(havingIP(url))\n",
    "    output.append(haveAtSign(url))\n",
    "    output.append(getLength(url))\n",
    "    output.append(getDepth(url))\n",
    "    output.append(redirection(url))\n",
    "    output.append(httpDomain(url))\n",
    "    output.append(tinyURL(url))\n",
    "    output.append(prefixSuffix(url))\n",
    "    output.append(iframe(response))\n",
    "    output.append(mouseOver(response))\n",
    "    output.append(rightClick(response))\n",
    "    output.append(forwarding(response))\n",
    "    return render_template('index.html', prediction_text='the website is  {}'.format(output))\n",
    "\n",
    "@app.route('/predict_api',methods=['POST'])\n",
    "def predict_api():\n",
    "    '''\n",
    "    For direct API calls trought request\n",
    "    '''\n",
    "    \n",
    "\n",
    "if __name__ == \"__main__\":\n",
    "    app.run(debug=True, use_reloader=False)\n",
    "    "
   ]
  }
 ],
 "metadata": {
  "kernelspec": {
   "display_name": "botenv",
   "language": "python",
   "name": "python3"
  },
  "language_info": {
   "codemirror_mode": {
    "name": "ipython",
    "version": 3
   },
   "file_extension": ".py",
   "mimetype": "text/x-python",
   "name": "python",
   "nbconvert_exporter": "python",
   "pygments_lexer": "ipython3",
   "version": "3.8.5"
  },
  "orig_nbformat": 4,
  "vscode": {
   "interpreter": {
    "hash": "377ee140f1ac52cb831cf9eb6407d4cef7bd3f2cd7b92c25c953b674e684c3bf"
   }
  }
 },
 "nbformat": 4,
 "nbformat_minor": 2
}
